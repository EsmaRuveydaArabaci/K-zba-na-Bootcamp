{
  "nbformat": 4,
  "nbformat_minor": 0,
  "metadata": {
    "colab": {
      "provenance": [],
      "authorship_tag": "ABX9TyP3meuHR5xX2GQqt/C3kS/o",
      "include_colab_link": true
    },
    "kernelspec": {
      "name": "python3",
      "display_name": "Python 3"
    },
    "language_info": {
      "name": "python"
    }
  },
  "cells": [
    {
      "cell_type": "markdown",
      "metadata": {
        "id": "view-in-github",
        "colab_type": "text"
      },
      "source": [
        "<a href=\"https://colab.research.google.com/github/EsmaRuveydaArabaci/Kizbasina-Patika.Dev-DataAnalysisBootcamp/blob/main/Kizbasina_%C3%96dev1.ipynb\" target=\"_parent\"><img src=\"https://colab.research.google.com/assets/colab-badge.svg\" alt=\"Open In Colab\"/></a>"
      ]
    },
    {
      "cell_type": "markdown",
      "source": [
        "1.Soru: Girilen sayının pozitif, negatif veya sıfır olduğunu yazan koşul"
      ],
      "metadata": {
        "id": "lyNzGbeCHrjq"
      }
    },
    {
      "cell_type": "code",
      "source": [
        "sayi = int(input(\"Bir sayı girin: \"))\n",
        "if sayi > 0:\n",
        "    print(\"Pozitif\")\n",
        "elif sayi < 0:\n",
        "    print(\"Negatif\")\n",
        "else:\n",
        "    print(\"Sıfır\")"
      ],
      "metadata": {
        "colab": {
          "base_uri": "https://localhost:8080/"
        },
        "id": "tA1taZFzHwv2",
        "outputId": "1153db36-9f6b-4e8a-9b2f-da5c8f1f6bf7"
      },
      "execution_count": 3,
      "outputs": [
        {
          "output_type": "stream",
          "name": "stdout",
          "text": [
            "Bir sayı girin: -2\n",
            "Negatif\n"
          ]
        }
      ]
    },
    {
      "cell_type": "markdown",
      "source": [
        "2.Soru: Girilen sayının tek mi çift mi olduğunu yazan koşul"
      ],
      "metadata": {
        "id": "5rNbT2KRHzeF"
      }
    },
    {
      "cell_type": "code",
      "execution_count": 4,
      "metadata": {
        "colab": {
          "base_uri": "https://localhost:8080/"
        },
        "id": "H1MtJcplHgNd",
        "outputId": "264bda3f-f5ed-440c-e5e3-e4cef4e24067"
      },
      "outputs": [
        {
          "output_type": "stream",
          "name": "stdout",
          "text": [
            "Bir sayı girin: 39\n",
            "Tek sayı\n"
          ]
        }
      ],
      "source": [
        "sayi = int(input(\"Bir sayı girin: \"))\n",
        "if sayi % 2 == 0:\n",
        "    print(\"Çift sayı\")\n",
        "else:\n",
        "    print(\"Tek sayı\")"
      ]
    },
    {
      "cell_type": "markdown",
      "source": [
        "3.Soru: Girilen nota göre harf aralığını yazan koşul"
      ],
      "metadata": {
        "id": "KcugpwtVIEun"
      }
    },
    {
      "cell_type": "code",
      "source": [
        "not_ = int(input(\"Notunuzu girin: \"))\n",
        "if 80 <= not_ <= 100:\n",
        "    print(\"A\")\n",
        "elif 60 <= not_ < 80:\n",
        "    print(\"B\")\n",
        "elif 40 <= not_ < 60:\n",
        "    print(\"C\")\n",
        "else:\n",
        "    print(\"D\")"
      ],
      "metadata": {
        "colab": {
          "base_uri": "https://localhost:8080/"
        },
        "id": "KZ9dJzE9IJHj",
        "outputId": "ab16b6a8-dcd0-4d74-8be9-e8cee88008bc"
      },
      "execution_count": 5,
      "outputs": [
        {
          "output_type": "stream",
          "name": "stdout",
          "text": [
            "Notunuzu girin: 73\n",
            "B\n"
          ]
        }
      ]
    },
    {
      "cell_type": "markdown",
      "source": [
        "4.Soru: İsmin uzunluğu 5'ten büyükse uyarı veren koşul"
      ],
      "metadata": {
        "id": "j3AD1P6LIOJt"
      }
    },
    {
      "cell_type": "code",
      "source": [
        "isim = input(\"İsminizi girin: \")\n",
        "if len(isim) > 5:\n",
        "    print(\"Uzun bir isminiz var\")\n",
        "else:\n",
        "    print(\"İsminiz:\", isim)"
      ],
      "metadata": {
        "colab": {
          "base_uri": "https://localhost:8080/"
        },
        "id": "Rb50Uom2ISNo",
        "outputId": "f2c483dd-d43e-4588-abba-99fd25b33fb6"
      },
      "execution_count": 8,
      "outputs": [
        {
          "output_type": "stream",
          "name": "stdout",
          "text": [
            "İsminizi girin: rüveyda\n",
            "Uzun bir isminiz var\n"
          ]
        }
      ]
    },
    {
      "cell_type": "markdown",
      "source": [
        "5.Soru: Sayının asal olup olmadığını bulan kod dizisi (for ve while)"
      ],
      "metadata": {
        "id": "C9__-D5-IX-B"
      }
    },
    {
      "cell_type": "markdown",
      "source": [
        "For ile:"
      ],
      "metadata": {
        "id": "MAM27taSIdBJ"
      }
    },
    {
      "cell_type": "code",
      "source": [
        "sayi = int(input(\"Bir sayı girin: \"))\n",
        "if sayi < 2:\n",
        "    print(\"Asal değil\")\n",
        "else:\n",
        "    for i in range(2, sayi):\n",
        "        if sayi % i == 0:\n",
        "            print(\"Asal değil\")\n",
        "            break\n",
        "    else:\n",
        "        print(\"Asal\")"
      ],
      "metadata": {
        "colab": {
          "base_uri": "https://localhost:8080/"
        },
        "id": "kM_rohTOIeuj",
        "outputId": "1cb70e56-9acb-4eee-cf36-c21046855bca"
      },
      "execution_count": 9,
      "outputs": [
        {
          "output_type": "stream",
          "name": "stdout",
          "text": [
            "Bir sayı girin: 24\n",
            "Asal değil\n"
          ]
        }
      ]
    },
    {
      "cell_type": "markdown",
      "source": [
        "While ile:"
      ],
      "metadata": {
        "id": "OIzWcpjGIjB4"
      }
    },
    {
      "cell_type": "code",
      "source": [
        "sayi = int(input(\"Bir sayı girin: \"))\n",
        "i = 2\n",
        "asal = True\n",
        "if sayi < 2:\n",
        "    asal = False\n",
        "else:\n",
        "    while i < sayi:\n",
        "        if sayi % i == 0:\n",
        "            asal = False\n",
        "            break\n",
        "        i += 1\n",
        "\n",
        "if asal:\n",
        "    print(\"Asal\")\n",
        "else:\n",
        "    print(\"Asal değil\")"
      ],
      "metadata": {
        "colab": {
          "base_uri": "https://localhost:8080/"
        },
        "id": "DEvPXC8nIkwJ",
        "outputId": "7019457e-771b-4614-fc07-e09b18c4dc0d"
      },
      "execution_count": 12,
      "outputs": [
        {
          "output_type": "stream",
          "name": "stdout",
          "text": [
            "Bir sayı girin: 107\n",
            "Asal\n"
          ]
        }
      ]
    },
    {
      "cell_type": "markdown",
      "source": [
        "6.Soru: notlar = [45, 85, 75, 50] içinde 75 değerinin indisini yazdıran döngü"
      ],
      "metadata": {
        "id": "Z1aonnDRIxwx"
      }
    },
    {
      "cell_type": "code",
      "source": [
        "notlar = [45, 85, 75, 50]\n",
        "for i in range(len(notlar)):\n",
        "    if notlar[i] == 75:\n",
        "        print(\"75 değeri\", i, \"indeksinde bulunuyor.\")"
      ],
      "metadata": {
        "colab": {
          "base_uri": "https://localhost:8080/"
        },
        "id": "2WrXbYkpI1Xf",
        "outputId": "c47447ed-21ec-40e0-edaf-9fac0b919626"
      },
      "execution_count": 13,
      "outputs": [
        {
          "output_type": "stream",
          "name": "stdout",
          "text": [
            "75 değeri 2 indeksinde bulunuyor.\n"
          ]
        }
      ]
    },
    {
      "cell_type": "markdown",
      "source": [
        "7.Soru: Girilen sayının faktöriyelini alma (for ve while)"
      ],
      "metadata": {
        "id": "LDz4d-OhI4OV"
      }
    },
    {
      "cell_type": "markdown",
      "source": [
        "For ile:"
      ],
      "metadata": {
        "id": "xK-pX9DLI9SX"
      }
    },
    {
      "cell_type": "code",
      "source": [
        "sayi = int(input(\"Bir sayı girin: \"))\n",
        "faktoriyel = 1\n",
        "for i in range(1, sayi + 1):\n",
        "    faktoriyel *= i\n",
        "print(\"Faktöriyel:\", faktoriyel)"
      ],
      "metadata": {
        "colab": {
          "base_uri": "https://localhost:8080/"
        },
        "id": "2JGcS1d7I8fV",
        "outputId": "a2da35ef-00cc-4fbe-b8af-fcccbb1654cc"
      },
      "execution_count": 15,
      "outputs": [
        {
          "output_type": "stream",
          "name": "stdout",
          "text": [
            "Bir sayı girin: 3\n",
            "Faktöriyel: 6\n"
          ]
        }
      ]
    },
    {
      "cell_type": "markdown",
      "source": [
        "While ile:"
      ],
      "metadata": {
        "id": "Qiv2VE6oJEKd"
      }
    },
    {
      "cell_type": "code",
      "source": [
        "sayi = int(input(\"Bir sayı girin: \"))\n",
        "faktoriyel = 1\n",
        "i = 1\n",
        "while i <= sayi:\n",
        "    faktoriyel *= i\n",
        "    i += 1\n",
        "print(\"Faktöriyel:\", faktoriyel)"
      ],
      "metadata": {
        "colab": {
          "base_uri": "https://localhost:8080/"
        },
        "id": "NNGcwLtAJGOs",
        "outputId": "af644061-ef04-4805-82d6-c297949694c5"
      },
      "execution_count": 16,
      "outputs": [
        {
          "output_type": "stream",
          "name": "stdout",
          "text": [
            "Bir sayı girin: 4\n",
            "Faktöriyel: 24\n"
          ]
        }
      ]
    },
    {
      "cell_type": "markdown",
      "source": [
        "8.Soru: Pozitif sayı girilene kadar soran, pozitif görünce bastıran (for ile)"
      ],
      "metadata": {
        "id": "uFbOdsiNJJKF"
      }
    },
    {
      "cell_type": "code",
      "source": [
        "for _ in range(100):  # sonsuz değil, ama yeterli tekrar\n",
        "    sayi = int(input(\"Pozitif bir sayı girin: \"))\n",
        "    if sayi > 0:\n",
        "        print(\"Pozitif sayı girdiniz:\", sayi)\n",
        "        break"
      ],
      "metadata": {
        "colab": {
          "base_uri": "https://localhost:8080/"
        },
        "id": "eSQYt_QrJMup",
        "outputId": "fdd1866b-0bda-4d67-ae06-2df0f77fc21b"
      },
      "execution_count": 17,
      "outputs": [
        {
          "output_type": "stream",
          "name": "stdout",
          "text": [
            "Pozitif bir sayı girin: -3\n",
            "Pozitif bir sayı girin: -4\n",
            "Pozitif bir sayı girin: 5\n",
            "Pozitif sayı girdiniz: 5\n"
          ]
        }
      ]
    },
    {
      "cell_type": "markdown",
      "source": [
        "9.Soru: Fonksiyon ile asal sayı kontrolü (for ve while)"
      ],
      "metadata": {
        "id": "bc__SskVJSER"
      }
    },
    {
      "cell_type": "markdown",
      "source": [
        "For ile:"
      ],
      "metadata": {
        "id": "0iorB223JXgJ"
      }
    },
    {
      "cell_type": "code",
      "source": [
        "def asal_mi(sayi):\n",
        "    if sayi < 2:\n",
        "        return False\n",
        "    for i in range(2, sayi):\n",
        "        if sayi % i == 0:\n",
        "            return False\n",
        "    return True\n",
        "\n",
        "sayi = int(input(\"Bir sayı girin: \"))\n",
        "print(\"Asal mı?\", asal_mi(sayi))"
      ],
      "metadata": {
        "colab": {
          "base_uri": "https://localhost:8080/"
        },
        "id": "8bxo1fXRJZA3",
        "outputId": "3d0b6ac9-b8ac-402c-8021-fcd1c85ca28e"
      },
      "execution_count": 18,
      "outputs": [
        {
          "output_type": "stream",
          "name": "stdout",
          "text": [
            "Bir sayı girin: 107\n",
            "Asal mı? True\n"
          ]
        }
      ]
    },
    {
      "cell_type": "markdown",
      "source": [
        "While ile:"
      ],
      "metadata": {
        "id": "SyAMfC2lJdE3"
      }
    },
    {
      "cell_type": "code",
      "source": [
        "def asal_mi(sayi):\n",
        "    if sayi < 2:\n",
        "        return False\n",
        "    i = 2\n",
        "    while i < sayi:\n",
        "        if sayi % i == 0:\n",
        "            return False\n",
        "        i += 1\n",
        "    return True\n",
        "\n",
        "sayi = int(input(\"Bir sayı girin: \"))\n",
        "print(\"Asal mı?\", asal_mi(sayi))"
      ],
      "metadata": {
        "colab": {
          "base_uri": "https://localhost:8080/"
        },
        "id": "L4aWrPZGJenx",
        "outputId": "2ddccf5d-7384-4f94-c879-0703edfb3939"
      },
      "execution_count": 19,
      "outputs": [
        {
          "output_type": "stream",
          "name": "stdout",
          "text": [
            "Bir sayı girin: 12\n",
            "Asal mı? False\n"
          ]
        }
      ]
    },
    {
      "cell_type": "markdown",
      "source": [
        "10.Soru: Fonksiyon ile faktöriyel alma (for ve while)"
      ],
      "metadata": {
        "id": "kAs_3n-uJjg1"
      }
    },
    {
      "cell_type": "markdown",
      "source": [
        "For ile:"
      ],
      "metadata": {
        "id": "Pepu_xBrJm5P"
      }
    },
    {
      "cell_type": "code",
      "source": [
        "def faktoriyel(sayi):\n",
        "    sonuc = 1\n",
        "    for i in range(1, sayi + 1):\n",
        "        sonuc *= i\n",
        "    return sonuc\n",
        "\n",
        "sayi = int(input(\"Bir sayı girin: \"))\n",
        "print(\"Faktöriyel:\", faktoriyel(sayi))"
      ],
      "metadata": {
        "colab": {
          "base_uri": "https://localhost:8080/"
        },
        "id": "BDx5G8i5JoH9",
        "outputId": "856f790b-251e-4744-97c0-69475cb9be72"
      },
      "execution_count": 20,
      "outputs": [
        {
          "output_type": "stream",
          "name": "stdout",
          "text": [
            "Bir sayı girin: 4\n",
            "Faktöriyel: 24\n"
          ]
        }
      ]
    },
    {
      "cell_type": "markdown",
      "source": [
        "While ile:"
      ],
      "metadata": {
        "id": "oadnCJg0Jqgj"
      }
    },
    {
      "cell_type": "code",
      "source": [
        "def faktoriyel(sayi):\n",
        "    sonuc = 1\n",
        "    i = 1\n",
        "    while i <= sayi:\n",
        "        sonuc *= i\n",
        "        i += 1\n",
        "    return sonuc\n",
        "\n",
        "sayi = int(input(\"Bir sayı girin: \"))\n",
        "print(\"Faktöriyel:\", faktoriyel(sayi))"
      ],
      "metadata": {
        "colab": {
          "base_uri": "https://localhost:8080/"
        },
        "id": "x0Wod_k7JsIh",
        "outputId": "bf5b7248-3cd0-4fd4-8fc8-64b190a1c85f"
      },
      "execution_count": 21,
      "outputs": [
        {
          "output_type": "stream",
          "name": "stdout",
          "text": [
            "Bir sayı girin: 3\n",
            "Faktöriyel: 6\n"
          ]
        }
      ]
    }
  ]
}
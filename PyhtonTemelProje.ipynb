{
  "nbformat": 4,
  "nbformat_minor": 0,
  "metadata": {
    "colab": {
      "provenance": [],
      "authorship_tag": "ABX9TyPOzsVhgLTcbykZhPLDJeEg",
      "include_colab_link": true
    },
    "kernelspec": {
      "name": "python3",
      "display_name": "Python 3"
    },
    "language_info": {
      "name": "python"
    }
  },
  "cells": [
    {
      "cell_type": "markdown",
      "metadata": {
        "id": "view-in-github",
        "colab_type": "text"
      },
      "source": [
        "<a href=\"https://colab.research.google.com/github/EsmaRuveydaArabaci/Kizbasina-Patika.Dev-DataAnalysisBootcamp/blob/main/PyhtonTemelProje.ipynb\" target=\"_parent\"><img src=\"https://colab.research.google.com/assets/colab-badge.svg\" alt=\"Open In Colab\"/></a>"
      ]
    },
    {
      "cell_type": "markdown",
      "source": [
        "1.Soru"
      ],
      "metadata": {
        "id": "eMYkaeQmYObe"
      }
    },
    {
      "cell_type": "code",
      "execution_count": null,
      "metadata": {
        "colab": {
          "base_uri": "https://localhost:8080/"
        },
        "id": "WHE3z_YKYNiO",
        "outputId": "7d813ed3-cacf-459a-d9d1-b1f75fb3df0b"
      },
      "outputs": [
        {
          "output_type": "stream",
          "name": "stdout",
          "text": [
            "[1, 'a', 'cat', 2, 3, 'dog', 4, 5]\n"
          ]
        }
      ],
      "source": [
        "def flatten(lst):\n",
        "    result = []\n",
        "    for item in lst:\n",
        "        if isinstance(item, list):\n",
        "            result.extend(flatten(item))  # Eğer item bir listeyse, yeniden flatten çağırıyoruz\n",
        "        else:\n",
        "            result.append(item)  # Eğer item liste değilse, direkt olarak ekliyoruz\n",
        "    return result\n",
        "# Örnek kullanım:\n",
        "input_list = [[1, 'a', ['cat'], 2], [[[3]], 'dog'], 4, 5]\n",
        "output_list = flatten(input_list)\n",
        "print(output_list)"
      ]
    },
    {
      "cell_type": "markdown",
      "source": [
        "2.Soru"
      ],
      "metadata": {
        "id": "TDMdu4x5YPHh"
      }
    },
    {
      "cell_type": "code",
      "source": [
        "def reverse_elements(lst):\n",
        "    result = []\n",
        "    for item in lst:\n",
        "        if isinstance(item, list):\n",
        "            result.append(reverse_elements(item))  # Eğer item bir listeyse, onun içeriğini de tersine çeviriyoruz\n",
        "        else:\n",
        "            result.append(item)  # Eğer item bir liste değilse, onu direkt olarak ekliyoruz\n",
        "    return result[::-1]  # Son olarak listenin kendisini tersine çeviriyoruz\n",
        "\n",
        "# Örnek kullanım:\n",
        "input_list = [[1, 2], [3, 4], [5, 6, 7]]\n",
        "output_list = reverse_elements(input_list)\n",
        "print(output_list)"
      ],
      "metadata": {
        "id": "NeyOivHSYPd9"
      },
      "execution_count": null,
      "outputs": []
    }
  ]
}
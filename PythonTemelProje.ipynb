#1.SORU
def flatten(lst):
    result = []
    for item in lst:
        if isinstance(item, list):
            result.extend(flatten(item))  # Eğer item bir listeyse, yeniden flatten çağırıyoruz
        else:
            result.append(item)  # Eğer item liste değilse, direkt olarak ekliyoruz
    return result

# Örnek kullanım:
input_list = [[1, 'a', ['cat'], 2], [[[3]], 'dog'], 4, 5]
output_list = flatten(input_list)
print(output_list)

#2.SORU
def reverse_elements(lst):
    result = []
    for item in lst:
        if isinstance(item, list):
            result.append(reverse_elements(item))  # Eğer item bir listeyse, onun içeriğini de tersine çeviriyoruz
        else:
            result.append(item)  # Eğer item bir liste değilse, onu direkt olarak ekliyoruz
    return result[::-1]  # Son olarak listenin kendisini tersine çeviriyoruz

# Örnek kullanım:
input_list = [[1, 2], [3, 4], [5, 6, 7]]
output_list = reverse_elements(input_list)
print(output_list)
